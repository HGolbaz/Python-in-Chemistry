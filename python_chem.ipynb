{
 "cells": [
  {
   "cell_type": "markdown",
   "id": "9f8abc68",
   "metadata": {},
   "source": [
    "# Liberies"
   ]
  },
  {
   "cell_type": "code",
   "execution_count": 1,
   "id": "37adac23",
   "metadata": {},
   "outputs": [],
   "source": [
    "import numpy as np\n",
    "import pandas as pd\n",
    "import matplotlib.pyplot as plt"
   ]
  },
  {
   "cell_type": "markdown",
   "id": "22098cd3",
   "metadata": {
    "jp-MarkdownHeadingCollapsed": true,
    "tags": []
   },
   "source": [
    "# Atomic number and mass"
   ]
  },
  {
   "cell_type": "code",
   "execution_count": 2,
   "id": "45d54463",
   "metadata": {},
   "outputs": [],
   "source": [
    "atomic_number_mass = {\n",
    "    'H': [1, 1.007],\n",
    "    \"He\" : [2, 4.003],\n",
    "    \"Li\" : [3, 6.941],\n",
    "    \"Be\" : [4, 9.012],\n",
    "    \"B\" : [5, 10.812],\n",
    "    \"C\" : [6, 12.011],\n",
    "    \"N\" : [7, 14.007],\n",
    "    \"O\" : [8, 15.999],\n",
    "    \"F\" : [9, 18.998],\n",
    "    \"Ne\" : [10, 20.18],\n",
    "    \"Na\" : [11, 22.99],\n",
    "    \"Mg\" : [12, 24.305],\n",
    "    \"Al\" : [13, 26.982],\n",
    "    \"Si\" : [14, 28.086],\n",
    "    \"P\" : [15, 30.974],\n",
    "    \"S\" : [16, 32.066],\n",
    "    \"Cl\" : [17, 35.453],\n",
    "    \"Ar\" : [18, 39.948],\n",
    "    \"K\" : [19, 39.098],\n",
    "    \"Ca\" : [20, 40.078],\n",
    "    \"Sc\" : [21, 44.956],\n",
    "    \"Ti\" : [22, 47.867],\n",
    "    \"V\" : [23, 50.942],\n",
    "    \"Cr\" : [24, 51.996],\n",
    "    \"Mn\" : [25, 54.938],\n",
    "    \"Fe\" : [26, 55.845],\n",
    "    \"Co\" : [27, 58.933],\n",
    "    \"Ni\" : [28, 58.693],\n",
    "    \"Cu\" : [29, 63.546],\n",
    "    \"Zn\" : [30, 65.382],\n",
    "    \"Ga\" : [31, 69.723],\n",
    "    \"Ge\" : [32, 72.631],\n",
    "    \"As\" : [33, 74.922],\n",
    "    \"Se\" : [34, 78.963],\n",
    "    \"Br\" : [35, 79.904],\n",
    "    \"Kr\" : [36, 83.798],\n",
    "    \"Rb\" : [37, 85.468],\n",
    "    \"Sr\" : [38, 87.621],\n",
    "    \"Y\" : [39, 88.906],\n",
    "    \"Zr\" : [40, 91.224],\n",
    "    \"Nb\" : [41, 92.906],\n",
    "    \"Mo\" : [42, 95.962],\n",
    "    \"Tc\" : [43, 98],\n",
    "    \"Ru\" : [44, 101.072],\n",
    "    \"Rh\" : [45, 102.906],\n",
    "    \"Pd\" : [46, 106.421],\n",
    "    \"Ag\" : [47, 107.868],\n",
    "    \"Cd\" : [48, 112.412],\n",
    "    \"In\" : [49, 114.818],\n",
    "    \"Sn\" : [50, 118.711],\n",
    "    \"Sb\" : [51, 121.76],\n",
    "    \"Te\" : [52, 127.603],\n",
    "    \"I\" : [53, 126.904],\n",
    "    \"Xe\" : [54, 131.294],\n",
    "    \"Cs\" : [55, 132.905],\n",
    "    \"Ba\" : [56, 137.328],\n",
    "    \"La\" : [57, 138.905],\n",
    "    \"Ce\" : [58, 140.116],\n",
    "    \"Pr\" : [59, 140.908],\n",
    "    \"Nd\" : [60, 144.242],\n",
    "    \"Pm\" : [61, 145],\n",
    "    \"Sm\" : [62, 150.362],\n",
    "    \"Eu\" : [63, 151.964],\n",
    "    \"Gd\" : [64, 157.253],\n",
    "    \"Tb\" : [65, 158.925],\n",
    "    \"Dy\" : [66, 162.5],\n",
    "    \"Ho\" : [67, 164.93],\n",
    "    \"Er\" : [68, 167.259],\n",
    "    \"Tm\" : [69, 168.934],\n",
    "    \"Yb\" : [70, 173.055],\n",
    "    \"Lu\" : [71, 174.967],\n",
    "    \"Hf\" : [72, 178.492],\n",
    "    \"Ta\" : [73, 180.948],\n",
    "    \"W\" : [74, 183.841],\n",
    "    \"Re\" : [75, 186.207],\n",
    "    \"Os\" : [76, 190.233],\n",
    "    \"Ir\" : [77, 192.217],\n",
    "    \"Pt\" : [78, 195.085],\n",
    "    \"Au\" : [79, 196.967],\n",
    "    \"Hg\" : [80, 200.592],\n",
    "    \"Tl\" : [81, 204.383],\n",
    "    \"Pb\" : [82, 207.21],\n",
    "    \"Bi\" : [83, 208.98],\n",
    "    \"Po\" : [84, 209],\n",
    "    \"At\" : [85, 210],\n",
    "    \"Rn\" : [86, 222],\n",
    "    \"Fr\" : [87, 223],\n",
    "    \"Ra\" : [88, 226],\n",
    "    \"Ac\" : [89, 227],\n",
    "    \"Th\" : [90, 232.038],\n",
    "    \"Pa\" : [91, 231.036],\n",
    "    \"U\" : [92, 238.029],\n",
    "    \"Np\" : [93, 237],\n",
    "    \"Pu\" : [94, 244],\n",
    "    \"Am\" : [95, 243],\n",
    "    \"Cm\" : [96, 247],\n",
    "    \"Bk\" : [97, 247],\n",
    "    \"Cf\" : [98, 251],\n",
    "    \"Es\" : [99, 252],\n",
    "    \"Fm\" : [100, 257],\n",
    "    \"Md\" : [101, 258],\n",
    "    \"No\" : [102, 259],\n",
    "    \"Lr\" : [103, 266],\n",
    "    \"Rf\" : [104, 267],\n",
    "    \"Db\" : [105, 268],\n",
    "    \"Sg\" : [106, 269],\n",
    "    \"Bh\" : [107, 270],\n",
    "    \"Hs\" : [108, 277],\n",
    "    \"Mt\" : [109, 278],\n",
    "    \"Ds\" : [110, 281],\n",
    "    \"Rg\" : [111, 282],\n",
    "    \"Cn\" : [112, 285],\n",
    "    \"Nh\" : [113, 286],\n",
    "    \"Fl\" : [114, 289],\n",
    "    \"Mc\" : [115, 290],\n",
    "    \"Lv\" : [116, 293],\n",
    "    \"Ts\" : [117, 294],\n",
    "    \"Og\" : [118, 294]\n",
    "}"
   ]
  },
  {
   "cell_type": "code",
   "execution_count": 3,
   "id": "bfc81fe2",
   "metadata": {},
   "outputs": [
    {
     "data": {
      "text/plain": [
       "15.999"
      ]
     },
     "execution_count": 3,
     "metadata": {},
     "output_type": "execute_result"
    }
   ],
   "source": [
    "atomic_number_mass.get('O')[1] # molar mass of Oxygen"
   ]
  },
  {
   "cell_type": "markdown",
   "id": "a32fdecf",
   "metadata": {
    "jp-MarkdownHeadingCollapsed": true,
    "tags": []
   },
   "source": [
    "# Constants"
   ]
  },
  {
   "cell_type": "code",
   "execution_count": 4,
   "id": "874da87a",
   "metadata": {},
   "outputs": [
    {
     "data": {
      "text/plain": [
       "0.082057366"
      ]
     },
     "execution_count": 4,
     "metadata": {},
     "output_type": "execute_result"
    }
   ],
   "source": [
    "# import CONSTANTS\n",
    "# CONSTANTS.constants['R']\n",
    "\n",
    "from CONSTANTS import get_const\n",
    "get_const('R') # L.atm.K-1.mol-1"
   ]
  },
  {
   "cell_type": "code",
   "execution_count": 5,
   "id": "43344d2a",
   "metadata": {},
   "outputs": [
    {
     "data": {
      "text/plain": [
       "8.31446261815324"
      ]
     },
     "execution_count": 5,
     "metadata": {},
     "output_type": "execute_result"
    }
   ],
   "source": [
    "R = get_const('k') * get_const('N')\n",
    "R # J/(K.mol)"
   ]
  },
  {
   "cell_type": "markdown",
   "id": "125f8175",
   "metadata": {
    "tags": []
   },
   "source": [
    "# CSV"
   ]
  },
  {
   "cell_type": "code",
   "execution_count": 6,
   "id": "1aefeb77",
   "metadata": {},
   "outputs": [
    {
     "name": "stdout",
     "output_type": "stream",
     "text": [
      "['#', 'name', 'Rf', 'Molar mass', 'Symbol', 'Letter', 'Formula', 'Structure']\n",
      "['1', 'Alanine', '0.3', '89.09', 'Ala', 'A', 'C3H7NO2', 'CH3-CH(NH2)-COOH']\n"
     ]
    }
   ],
   "source": [
    "import csv\n",
    "with open('amino_acids.csv') as file: # reading as rows\n",
    "    reader = csv.reader(file)\n",
    "    rows = list(reader)\n",
    "    keys = rows[0]\n",
    "    item1 = rows[1]\n",
    "    \n",
    "    \n",
    "print(keys)\n",
    "print(item1)"
   ]
  },
  {
   "cell_type": "code",
   "execution_count": 7,
   "id": "13ea7d3c",
   "metadata": {},
   "outputs": [
    {
     "name": "stdout",
     "output_type": "stream",
     "text": [
      "name   Rf\n",
      "Alanine   0.3\n",
      "Arginine   0.16\n",
      "Asparagine   0.21\n",
      "Aspartic Acid   0.24\n",
      "Cysteine   0.37\n",
      "Glutamic Acid   0.31\n",
      "Glutamine   0.25\n",
      "Glycine   0.25\n",
      "Histidine   0.12\n",
      "Isoleucine   0.53\n",
      "Leucine   0.61\n",
      "Lysine   0.12\n",
      "Methionine   0.51\n",
      "Phenylalanine   0.62\n",
      "Proline   0.24\n",
      "Serine   0.26\n",
      "Threonine   0.3\n",
      "Tryptophan   0.61\n",
      "Tyrosine   0.55\n",
      "Valine   0.44\n"
     ]
    }
   ],
   "source": [
    "with open('amino_acids.csv') as file: # iterating over rows\n",
    "    reader = csv.reader(file)\n",
    "    for row in reader:\n",
    "        print(row[1], ' ', row[2])"
   ]
  },
  {
   "cell_type": "code",
   "execution_count": 8,
   "id": "b735e47e",
   "metadata": {},
   "outputs": [
    {
     "name": "stdout",
     "output_type": "stream",
     "text": [
      "{'name': 'Rf', 'Alanine': '0.3', 'Arginine': '0.16', 'Asparagine': '0.21', 'Aspartic Acid': '0.24', 'Cysteine': '0.37', 'Glutamic Acid': '0.31', 'Glutamine': '0.25', 'Glycine': '0.25', 'Histidine': '0.12', 'Isoleucine': '0.53', 'Leucine': '0.61', 'Lysine': '0.12', 'Methionine': '0.51', 'Phenylalanine': '0.62', 'Proline': '0.24', 'Serine': '0.26', 'Threonine': '0.3', 'Tryptophan': '0.61', 'Tyrosine': '0.55', 'Valine': '0.44'}\n"
     ]
    }
   ],
   "source": [
    "with open('amino_acids.csv', 'r') as f: # dict of data\n",
    "    reader = csv.reader(f)\n",
    "    d = {row[1]: row[2] for row in reader}\n",
    "    \n",
    "print(d)"
   ]
  },
  {
   "cell_type": "markdown",
   "id": "0ab00c0e",
   "metadata": {},
   "source": [
    "### example: rate constant"
   ]
  },
  {
   "cell_type": "code",
   "execution_count": 12,
   "id": "28615da8-59f9-4546-94e3-19ed676f6d05",
   "metadata": {
    "tags": []
   },
   "outputs": [
    {
     "name": "stdout",
     "output_type": "stream",
     "text": [
      "[6.28, 8.99, 11.44, 13.65, 35.05]\n",
      "Observed volumes(ml):  [6.28, 8.99, 11.44, 13.65, 35.05]\n",
      "Volume at infinite time(ml):  35.05\n"
     ]
    }
   ],
   "source": [
    "# k = 1/t(loge [Vinf/{Vinf – Vt}])\n",
    "import math\n",
    "\n",
    "vol = []\n",
    "with open('rate_constant.csv', 'r') as file:\n",
    "    for row in csv.reader(file):\n",
    "        try:\n",
    "            voll = float(row[2])\n",
    "            vol.append(voll)\n",
    "            \n",
    "        except:\n",
    "            pass\n",
    "print(vol)\n",
    "print('Observed volumes(ml): ', vol)\n",
    "print('Volume at infinite time(ml): ', max(vol))"
   ]
  },
  {
   "cell_type": "code",
   "execution_count": 25,
   "id": "ebfd6ff2-27d3-4aaa-9699-6c867e5224b2",
   "metadata": {
    "tags": []
   },
   "outputs": [
    {
     "name": "stdout",
     "output_type": "stream",
     "text": [
      "rate constants values:  [0.019744, 0.019758, 0.019755, 0.019735]\n",
      "average rate constants:  0.019748\n"
     ]
    }
   ],
   "source": [
    "time = []\n",
    "k = []\n",
    "\n",
    "with open('rate_constant.csv', 'r') as file:\n",
    "    for data in csv.reader(file):\n",
    "        try:\n",
    "            t = float(data[1])\n",
    "            time.append(t)\n",
    "            k2 = round((1/t) * math.log(max(vol)/(max(vol)-float(data[2]))), 6)\n",
    "            k.append(k2)\n",
    "        except:\n",
    "            next\n",
    "\n",
    "print('rate constants values: ', k)\n",
    "print('average rate constants: ', sum(k)/len(k))"
   ]
  },
  {
   "cell_type": "markdown",
   "id": "a8b34335-6318-4787-b25e-726fb0699833",
   "metadata": {},
   "source": [
    "### exporting data to csv"
   ]
  },
  {
   "cell_type": "code",
   "execution_count": 30,
   "id": "f0c7efec-2091-42ec-948b-ef906f17d293",
   "metadata": {
    "tags": []
   },
   "outputs": [
    {
     "name": "stdout",
     "output_type": "stream",
     "text": [
      "Time,Volume,Rate Constants\n",
      "\n",
      "10.0,6.28,0.019744\n",
      "\n",
      "15.0,8.99,0.019758\n",
      "\n",
      "20.0,11.44,0.019755\n",
      "\n",
      "25.0,13.65,0.019735\n",
      "\n",
      ",Rate Constant = ,0.019748\n",
      "\n"
     ]
    }
   ],
   "source": [
    "file = open('rate_constant2.csv', 'w+', newline= '')\n",
    "with file:\n",
    "    write = csv.writer(file)\n",
    "    write.writerow(['Time', 'Volume', 'Rate Constants'])\n",
    "    write.writerows(zip(time, vol, k))\n",
    "    write.writerow(['', 'Rate Constant = ', sum(k)/len(k)])\n",
    "    \n",
    "with open('rate_constant2.csv', 'r') as file:\n",
    "    for data in file:\n",
    "        print(data)"
   ]
  },
  {
   "cell_type": "code",
   "execution_count": null,
   "id": "e93c7f2c-3231-4c47-be44-03565b84902e",
   "metadata": {},
   "outputs": [],
   "source": []
  }
 ],
 "metadata": {
  "kernelspec": {
   "display_name": "Python 3 (ipykernel)",
   "language": "python",
   "name": "python3"
  },
  "language_info": {
   "codemirror_mode": {
    "name": "ipython",
    "version": 3
   },
   "file_extension": ".py",
   "mimetype": "text/x-python",
   "name": "python",
   "nbconvert_exporter": "python",
   "pygments_lexer": "ipython3",
   "version": "3.11.5"
  },
  "toc-autonumbering": false,
  "toc-showcode": false,
  "toc-showmarkdowntxt": false
 },
 "nbformat": 4,
 "nbformat_minor": 5
}
